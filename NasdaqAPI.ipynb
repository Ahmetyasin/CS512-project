{
 "cells": [
  {
   "cell_type": "markdown",
   "id": "34c3c4aa-1a68-437a-98eb-4ba414a57bf0",
   "metadata": {},
   "source": [
    "# NASDAQ Data API\n",
    "\n",
    "The NASDAQ API provides free access to data from several sources. You can search their data products [here](https://data.nasdaq.com/search). (Choose \"Free\" in the filter)"
   ]
  },
  {
   "cell_type": "code",
   "execution_count": 6,
   "id": "a26c73af-e6d9-451d-9683-645bc892f11f",
   "metadata": {},
   "outputs": [],
   "source": [
    "import pandas as pd\n",
    "import numpy as np\n",
    "import matplotlib.pyplot as plt\n",
    "import nasdaqdatalink as nasdaq\n",
    "\n",
    "# Reading API key\n",
    "nasdaq.read_key('NASDAQ_API_KEY.txt')"
   ]
  },
  {
   "cell_type": "markdown",
   "id": "a40cb80e-b1f7-437b-be44-99f718b813af",
   "metadata": {},
   "source": [
    "## IMF Cross Country Macroeconomic Statistics\n",
    "This source provides **yearly** data from the International Monetary Fund (IMF).\n",
    "* [Link to documentation and indicator codes](https://data.nasdaq.com/data/ODA-imf-cross-country-macroeconomic-statistics/documentation)"
   ]
  },
  {
   "cell_type": "code",
   "execution_count": 11,
   "id": "7a8483d3-d716-43c2-8159-82457e0bcc62",
   "metadata": {},
   "outputs": [],
   "source": [
    "# Example code\n",
    "# ODA is the code for this data source (IMF Cross Country Macroeconomic Statistics)\n",
    "# TUR is Turkey's ISO country code\n",
    "# LP is the indicator for population\n",
    "\n",
    "data = nasdaq.get('ODA/TUR_LP')"
   ]
  },
  {
   "cell_type": "code",
   "execution_count": 21,
   "id": "da310aa2-ffce-4808-9562-318b3538fca3",
   "metadata": {},
   "outputs": [],
   "source": [
    "# Choose indicator \n",
    "indicator = 'LUR'\n",
    "data = nasdaq.get(f'ODA/TUR_{indicator}')"
   ]
  },
  {
   "cell_type": "code",
   "execution_count": 23,
   "id": "4153ef02-9f58-4931-82f9-b7d85f5c7c18",
   "metadata": {},
   "outputs": [
    {
     "data": {
      "text/html": [
       "<div>\n",
       "<style scoped>\n",
       "    .dataframe tbody tr th:only-of-type {\n",
       "        vertical-align: middle;\n",
       "    }\n",
       "\n",
       "    .dataframe tbody tr th {\n",
       "        vertical-align: top;\n",
       "    }\n",
       "\n",
       "    .dataframe thead th {\n",
       "        text-align: right;\n",
       "    }\n",
       "</style>\n",
       "<table border=\"1\" class=\"dataframe\">\n",
       "  <thead>\n",
       "    <tr style=\"text-align: right;\">\n",
       "      <th></th>\n",
       "      <th>Value</th>\n",
       "    </tr>\n",
       "    <tr>\n",
       "      <th>Date</th>\n",
       "      <th></th>\n",
       "    </tr>\n",
       "  </thead>\n",
       "  <tbody>\n",
       "    <tr>\n",
       "      <th>2020-12-31</th>\n",
       "      <td>17.200</td>\n",
       "    </tr>\n",
       "    <tr>\n",
       "      <th>2021-12-31</th>\n",
       "      <td>15.567</td>\n",
       "    </tr>\n",
       "    <tr>\n",
       "      <th>2022-12-31</th>\n",
       "      <td>10.720</td>\n",
       "    </tr>\n",
       "    <tr>\n",
       "      <th>2023-12-31</th>\n",
       "      <td>10.720</td>\n",
       "    </tr>\n",
       "    <tr>\n",
       "      <th>2024-12-31</th>\n",
       "      <td>10.500</td>\n",
       "    </tr>\n",
       "  </tbody>\n",
       "</table>\n",
       "</div>"
      ],
      "text/plain": [
       "             Value\n",
       "Date              \n",
       "2020-12-31  17.200\n",
       "2021-12-31  15.567\n",
       "2022-12-31  10.720\n",
       "2023-12-31  10.720\n",
       "2024-12-31  10.500"
      ]
     },
     "execution_count": 23,
     "metadata": {},
     "output_type": "execute_result"
    }
   ],
   "source": [
    "data.tail()"
   ]
  },
  {
   "cell_type": "markdown",
   "id": "396ec671-748a-4e32-82ae-90ca52790dd6",
   "metadata": {
    "tags": []
   },
   "source": [
    "## World Bank Data\n",
    "Yearly data for various indicators. See the available indicators in the meta data below.\n",
    "* [Docs](https://data.nasdaq.com/databases/WB/documentation)"
   ]
  },
  {
   "cell_type": "code",
   "execution_count": 46,
   "id": "70aeab33-e364-4c27-a0ee-132361b1eca2",
   "metadata": {},
   "outputs": [],
   "source": [
    "# Loading meta data\n",
    "meta_data = nasdaq.get_table('WB/METADATA')"
   ]
  },
  {
   "cell_type": "code",
   "execution_count": 68,
   "id": "9fd0c1e8-0aa3-40b1-840e-aebe815bd1d9",
   "metadata": {},
   "outputs": [
    {
     "data": {
      "text/html": [
       "<div>\n",
       "<style scoped>\n",
       "    .dataframe tbody tr th:only-of-type {\n",
       "        vertical-align: middle;\n",
       "    }\n",
       "\n",
       "    .dataframe tbody tr th {\n",
       "        vertical-align: top;\n",
       "    }\n",
       "\n",
       "    .dataframe thead th {\n",
       "        text-align: right;\n",
       "    }\n",
       "</style>\n",
       "<table border=\"1\" class=\"dataframe\">\n",
       "  <thead>\n",
       "    <tr style=\"text-align: right;\">\n",
       "      <th></th>\n",
       "      <th>series_id</th>\n",
       "      <th>name</th>\n",
       "      <th>description</th>\n",
       "    </tr>\n",
       "    <tr>\n",
       "      <th>None</th>\n",
       "      <th></th>\n",
       "      <th></th>\n",
       "      <th></th>\n",
       "    </tr>\n",
       "  </thead>\n",
       "  <tbody>\n",
       "    <tr>\n",
       "      <th>781</th>\n",
       "      <td>NY.GDP.DEFL.KD.ZG.AD</td>\n",
       "      <td>Inflation, GDP deflator: linked series (annual %)</td>\n",
       "      <td>Inflation as measured by the annual growth rat...</td>\n",
       "    </tr>\n",
       "    <tr>\n",
       "      <th>782</th>\n",
       "      <td>NY.GDP.DEFL.KD.ZG</td>\n",
       "      <td>Inflation, GDP deflator (annual %)</td>\n",
       "      <td>Inflation as measured by the annual growth rat...</td>\n",
       "    </tr>\n",
       "    <tr>\n",
       "      <th>1132</th>\n",
       "      <td>FP.CPI.TOTL.ZG</td>\n",
       "      <td>Inflation, consumer prices (annual %)</td>\n",
       "      <td>Inflation as measured by the consumer price in...</td>\n",
       "    </tr>\n",
       "  </tbody>\n",
       "</table>\n",
       "</div>"
      ],
      "text/plain": [
       "                 series_id                                               name  \\\n",
       "None                                                                            \n",
       "781   NY.GDP.DEFL.KD.ZG.AD  Inflation, GDP deflator: linked series (annual %)   \n",
       "782      NY.GDP.DEFL.KD.ZG                 Inflation, GDP deflator (annual %)   \n",
       "1132        FP.CPI.TOTL.ZG              Inflation, consumer prices (annual %)   \n",
       "\n",
       "                                            description  \n",
       "None                                                     \n",
       "781   Inflation as measured by the annual growth rat...  \n",
       "782   Inflation as measured by the annual growth rat...  \n",
       "1132  Inflation as measured by the consumer price in...  "
      ]
     },
     "execution_count": 68,
     "metadata": {},
     "output_type": "execute_result"
    }
   ],
   "source": [
    "# Searching available indicators\n",
    "look_for = 'inflation'\n",
    "cond = meta_data['name'].str.lower().str.contains(look_for)\n",
    "meta_data.loc[cond]"
   ]
  },
  {
   "cell_type": "code",
   "execution_count": 69,
   "id": "dde74ccc-01e8-49fc-9361-611d0376e0d3",
   "metadata": {},
   "outputs": [],
   "source": [
    "# Loading some data for Turkey\n",
    "# Choose series_id from meta_data\n",
    "series_id = 'FP.CPI.TOTL.ZG'\n",
    "data = nasdaq.get_table('WB/DATA', series_id=series_id, country_code='TUR')"
   ]
  },
  {
   "cell_type": "code",
   "execution_count": 70,
   "id": "8e453a81-f6f0-424a-b9f0-d0d729dcb283",
   "metadata": {},
   "outputs": [
    {
     "data": {
      "text/html": [
       "<div>\n",
       "<style scoped>\n",
       "    .dataframe tbody tr th:only-of-type {\n",
       "        vertical-align: middle;\n",
       "    }\n",
       "\n",
       "    .dataframe tbody tr th {\n",
       "        vertical-align: top;\n",
       "    }\n",
       "\n",
       "    .dataframe thead th {\n",
       "        text-align: right;\n",
       "    }\n",
       "</style>\n",
       "<table border=\"1\" class=\"dataframe\">\n",
       "  <thead>\n",
       "    <tr style=\"text-align: right;\">\n",
       "      <th></th>\n",
       "      <th>series_id</th>\n",
       "      <th>country_code</th>\n",
       "      <th>country_name</th>\n",
       "      <th>year</th>\n",
       "      <th>value</th>\n",
       "    </tr>\n",
       "    <tr>\n",
       "      <th>None</th>\n",
       "      <th></th>\n",
       "      <th></th>\n",
       "      <th></th>\n",
       "      <th></th>\n",
       "      <th></th>\n",
       "    </tr>\n",
       "  </thead>\n",
       "  <tbody>\n",
       "    <tr>\n",
       "      <th>0</th>\n",
       "      <td>FP.CPI.TOTL.ZG</td>\n",
       "      <td>TUR</td>\n",
       "      <td>Turkiye</td>\n",
       "      <td>2021</td>\n",
       "      <td>19.596493</td>\n",
       "    </tr>\n",
       "    <tr>\n",
       "      <th>1</th>\n",
       "      <td>FP.CPI.TOTL.ZG</td>\n",
       "      <td>TUR</td>\n",
       "      <td>Turkiye</td>\n",
       "      <td>2020</td>\n",
       "      <td>12.278957</td>\n",
       "    </tr>\n",
       "    <tr>\n",
       "      <th>2</th>\n",
       "      <td>FP.CPI.TOTL.ZG</td>\n",
       "      <td>TUR</td>\n",
       "      <td>Turkiye</td>\n",
       "      <td>2019</td>\n",
       "      <td>15.176822</td>\n",
       "    </tr>\n",
       "    <tr>\n",
       "      <th>3</th>\n",
       "      <td>FP.CPI.TOTL.ZG</td>\n",
       "      <td>TUR</td>\n",
       "      <td>Turkiye</td>\n",
       "      <td>2018</td>\n",
       "      <td>16.332464</td>\n",
       "    </tr>\n",
       "    <tr>\n",
       "      <th>4</th>\n",
       "      <td>FP.CPI.TOTL.ZG</td>\n",
       "      <td>TUR</td>\n",
       "      <td>Turkiye</td>\n",
       "      <td>2017</td>\n",
       "      <td>11.144311</td>\n",
       "    </tr>\n",
       "  </tbody>\n",
       "</table>\n",
       "</div>"
      ],
      "text/plain": [
       "           series_id country_code country_name  year      value\n",
       "None                                                           \n",
       "0     FP.CPI.TOTL.ZG          TUR      Turkiye  2021  19.596493\n",
       "1     FP.CPI.TOTL.ZG          TUR      Turkiye  2020  12.278957\n",
       "2     FP.CPI.TOTL.ZG          TUR      Turkiye  2019  15.176822\n",
       "3     FP.CPI.TOTL.ZG          TUR      Turkiye  2018  16.332464\n",
       "4     FP.CPI.TOTL.ZG          TUR      Turkiye  2017  11.144311"
      ]
     },
     "execution_count": 70,
     "metadata": {},
     "output_type": "execute_result"
    }
   ],
   "source": [
    "data.head()"
   ]
  },
  {
   "cell_type": "markdown",
   "id": "828cb671-b277-436f-962a-69b91bc55bc4",
   "metadata": {},
   "source": [
    "## BP Energy Production and Consumption\n",
    "\n",
    "Yearly energy data. See available datastes in meta data below.\n",
    "\n",
    "* [Docs](https://data.nasdaq.com/data/BP-energy-production-and-consumption/usage/quickstart/python)"
   ]
  },
  {
   "cell_type": "code",
   "execution_count": 43,
   "id": "0e35ee2c-54ff-48b0-bb95-821546d76b20",
   "metadata": {},
   "outputs": [],
   "source": [
    "# This file contains the description and codes of the available data\n",
    "path = 'data/BP_metadata.csv'\n",
    "meta_data = pd.read_csv(path)\n",
    "\n",
    "# Filtering data for Turkey\n",
    "cond = meta_data['name'].str.contains('Turkey')\n",
    "meta_data = meta_data.loc[cond].reset_index(drop=True)"
   ]
  },
  {
   "cell_type": "code",
   "execution_count": 44,
   "id": "f73d95e2-4693-442d-a7f9-77fbb3eb6696",
   "metadata": {},
   "outputs": [
    {
     "data": {
      "text/html": [
       "<div>\n",
       "<style scoped>\n",
       "    .dataframe tbody tr th:only-of-type {\n",
       "        vertical-align: middle;\n",
       "    }\n",
       "\n",
       "    .dataframe tbody tr th {\n",
       "        vertical-align: top;\n",
       "    }\n",
       "\n",
       "    .dataframe thead th {\n",
       "        text-align: right;\n",
       "    }\n",
       "</style>\n",
       "<table border=\"1\" class=\"dataframe\">\n",
       "  <thead>\n",
       "    <tr style=\"text-align: right;\">\n",
       "      <th></th>\n",
       "      <th>code</th>\n",
       "      <th>name</th>\n",
       "      <th>description</th>\n",
       "      <th>refreshed_at</th>\n",
       "      <th>from_date</th>\n",
       "      <th>to_date</th>\n",
       "    </tr>\n",
       "  </thead>\n",
       "  <tbody>\n",
       "    <tr>\n",
       "      <th>0</th>\n",
       "      <td>C02_EMMISSIONS_TUR</td>\n",
       "      <td>Carbon Dioxide (CO2) Emmissions - Turkey</td>\n",
       "      <td>Carbon Dioxide (CO2) Emmissions - Turkey. Mill...</td>\n",
       "      <td>2021-12-22 04:00:58</td>\n",
       "      <td>1965-12-31</td>\n",
       "      <td>2020-12-31</td>\n",
       "    </tr>\n",
       "    <tr>\n",
       "      <th>1</th>\n",
       "      <td>COAL_CONSUM_O_TUR</td>\n",
       "      <td>Coal Consumption - Oil Equivalent - Turkey</td>\n",
       "      <td>Coal Consumption - Oil Equivalent - Turkey. Mi...</td>\n",
       "      <td>2019-08-22 15:54:59</td>\n",
       "      <td>1965-12-31</td>\n",
       "      <td>2018-12-31</td>\n",
       "    </tr>\n",
       "    <tr>\n",
       "      <th>2</th>\n",
       "      <td>COAL_PROD_O_TUR</td>\n",
       "      <td>Coal Production - Oil Equivalent - Turkey</td>\n",
       "      <td>Coal Production - Oil Equivalent - Turkey. Mil...</td>\n",
       "      <td>2019-08-22 15:54:59</td>\n",
       "      <td>1981-12-31</td>\n",
       "      <td>2018-12-31</td>\n",
       "    </tr>\n",
       "    <tr>\n",
       "      <th>3</th>\n",
       "      <td>COAL_PROD_TUR</td>\n",
       "      <td>Coal Production - Turkey</td>\n",
       "      <td>Coal Production - Turkey. Million Tonnes. Comm...</td>\n",
       "      <td>2022-11-22 04:00:39</td>\n",
       "      <td>1981-12-31</td>\n",
       "      <td>2021-12-31</td>\n",
       "    </tr>\n",
       "    <tr>\n",
       "      <th>4</th>\n",
       "      <td>ELEC_GEN_TUR</td>\n",
       "      <td>Electricity Generation - Turkey</td>\n",
       "      <td>Electricity Generation - Turkey. Terawatt Hour...</td>\n",
       "      <td>2022-11-22 04:00:39</td>\n",
       "      <td>1985-12-31</td>\n",
       "      <td>2021-12-31</td>\n",
       "    </tr>\n",
       "  </tbody>\n",
       "</table>\n",
       "</div>"
      ],
      "text/plain": [
       "                 code                                        name  \\\n",
       "0  C02_EMMISSIONS_TUR    Carbon Dioxide (CO2) Emmissions - Turkey   \n",
       "1   COAL_CONSUM_O_TUR  Coal Consumption - Oil Equivalent - Turkey   \n",
       "2     COAL_PROD_O_TUR   Coal Production - Oil Equivalent - Turkey   \n",
       "3       COAL_PROD_TUR                    Coal Production - Turkey   \n",
       "4        ELEC_GEN_TUR             Electricity Generation - Turkey   \n",
       "\n",
       "                                         description         refreshed_at  \\\n",
       "0  Carbon Dioxide (CO2) Emmissions - Turkey. Mill...  2021-12-22 04:00:58   \n",
       "1  Coal Consumption - Oil Equivalent - Turkey. Mi...  2019-08-22 15:54:59   \n",
       "2  Coal Production - Oil Equivalent - Turkey. Mil...  2019-08-22 15:54:59   \n",
       "3  Coal Production - Turkey. Million Tonnes. Comm...  2022-11-22 04:00:39   \n",
       "4  Electricity Generation - Turkey. Terawatt Hour...  2022-11-22 04:00:39   \n",
       "\n",
       "    from_date     to_date  \n",
       "0  1965-12-31  2020-12-31  \n",
       "1  1965-12-31  2018-12-31  \n",
       "2  1981-12-31  2018-12-31  \n",
       "3  1981-12-31  2021-12-31  \n",
       "4  1985-12-31  2021-12-31  "
      ]
     },
     "execution_count": 44,
     "metadata": {},
     "output_type": "execute_result"
    }
   ],
   "source": [
    "meta_data.head()"
   ]
  },
  {
   "cell_type": "code",
   "execution_count": 41,
   "id": "b5cc8928-a06d-4534-a326-6eacd2b16cc7",
   "metadata": {
    "tags": []
   },
   "outputs": [
    {
     "name": "stdout",
     "output_type": "stream",
     "text": [
      "Downloading Electricity Generation - Turkey data\n",
      "\n",
      "Description:\n",
      "Electricity Generation - Turkey. Terawatt Hours. Based on gross output.\n"
     ]
    }
   ],
   "source": [
    "indicator = 'ELEC_GEN_TUR'\n",
    "\n",
    "cond = meta_data['code'] == indicator\n",
    "print(f\"Downloading {meta_data.loc[cond, 'name'].squeeze()} data\")\n",
    "print('\\nDescription:')\n",
    "print(meta_data.loc[cond, 'description'].squeeze())\n",
    "\n",
    "data = nasdaq.get(f'BP/{indicator}', start_date='2000-01-01')"
   ]
  },
  {
   "cell_type": "code",
   "execution_count": 42,
   "id": "1c97fba2-0e33-4dfa-8840-4be9111caa3b",
   "metadata": {},
   "outputs": [
    {
     "data": {
      "text/html": [
       "<div>\n",
       "<style scoped>\n",
       "    .dataframe tbody tr th:only-of-type {\n",
       "        vertical-align: middle;\n",
       "    }\n",
       "\n",
       "    .dataframe tbody tr th {\n",
       "        vertical-align: top;\n",
       "    }\n",
       "\n",
       "    .dataframe thead th {\n",
       "        text-align: right;\n",
       "    }\n",
       "</style>\n",
       "<table border=\"1\" class=\"dataframe\">\n",
       "  <thead>\n",
       "    <tr style=\"text-align: right;\">\n",
       "      <th></th>\n",
       "      <th>Value</th>\n",
       "    </tr>\n",
       "    <tr>\n",
       "      <th>Date</th>\n",
       "      <th></th>\n",
       "    </tr>\n",
       "  </thead>\n",
       "  <tbody>\n",
       "    <tr>\n",
       "      <th>2017-12-31</th>\n",
       "      <td>297.277500</td>\n",
       "    </tr>\n",
       "    <tr>\n",
       "      <th>2018-12-31</th>\n",
       "      <td>304.801900</td>\n",
       "    </tr>\n",
       "    <tr>\n",
       "      <th>2019-12-31</th>\n",
       "      <td>303.897600</td>\n",
       "    </tr>\n",
       "    <tr>\n",
       "      <th>2020-12-31</th>\n",
       "      <td>306.703100</td>\n",
       "    </tr>\n",
       "    <tr>\n",
       "      <th>2021-12-31</th>\n",
       "      <td>333.326545</td>\n",
       "    </tr>\n",
       "  </tbody>\n",
       "</table>\n",
       "</div>"
      ],
      "text/plain": [
       "                 Value\n",
       "Date                  \n",
       "2017-12-31  297.277500\n",
       "2018-12-31  304.801900\n",
       "2019-12-31  303.897600\n",
       "2020-12-31  306.703100\n",
       "2021-12-31  333.326545"
      ]
     },
     "execution_count": 42,
     "metadata": {},
     "output_type": "execute_result"
    }
   ],
   "source": [
    "data.tail()"
   ]
  },
  {
   "cell_type": "code",
   "execution_count": null,
   "id": "c7f5e799-d50e-4123-b990-7e6487b853d7",
   "metadata": {},
   "outputs": [],
   "source": []
  },
  {
   "cell_type": "code",
   "execution_count": null,
   "id": "ca15d856-aea9-4bff-9107-a4495ada3b56",
   "metadata": {},
   "outputs": [],
   "source": []
  }
 ],
 "metadata": {
  "kernelspec": {
   "display_name": "Python 3 (ipykernel)",
   "language": "python",
   "name": "python3"
  },
  "language_info": {
   "codemirror_mode": {
    "name": "ipython",
    "version": 3
   },
   "file_extension": ".py",
   "mimetype": "text/x-python",
   "name": "python",
   "nbconvert_exporter": "python",
   "pygments_lexer": "ipython3",
   "version": "3.10.7"
  }
 },
 "nbformat": 4,
 "nbformat_minor": 5
}
