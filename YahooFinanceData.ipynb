{
 "cells": [
  {
   "cell_type": "markdown",
   "id": "f424567a",
   "metadata": {},
   "source": [
    "# Yahoo Finance Data\n",
    "Downloading stock price data from Yahoo Finance using yfinance library.\n",
    "\n",
    "Sources:\n",
    "* [yfinance library](https://pypi.org/project/yfinance/)\n",
    "* [Tutorial](https://analyzingalpha.com/yfinance-python)"
   ]
  },
  {
   "cell_type": "code",
   "execution_count": 10,
   "id": "b4e87a06",
   "metadata": {},
   "outputs": [],
   "source": [
    "import pandas as pd\n",
    "import numpy as np\n",
    "import yfinance as yf\n",
    "import matplotlib.pyplot as plt"
   ]
  },
  {
   "cell_type": "code",
   "execution_count": 16,
   "id": "6eb9c401",
   "metadata": {},
   "outputs": [
    {
     "data": {
      "text/plain": [
       "(4466, 7)"
      ]
     },
     "execution_count": 16,
     "metadata": {},
     "output_type": "execute_result"
    }
   ],
   "source": [
    "bim = yf.Ticker('BIMAS.IS')\n",
    "bim_history = bim.history(period='max')\n",
    "bim_history.shape"
   ]
  },
  {
   "cell_type": "code",
   "execution_count": 18,
   "id": "5d1938ba",
   "metadata": {},
   "outputs": [
    {
     "data": {
      "text/html": [
       "<div>\n",
       "<style scoped>\n",
       "    .dataframe tbody tr th:only-of-type {\n",
       "        vertical-align: middle;\n",
       "    }\n",
       "\n",
       "    .dataframe tbody tr th {\n",
       "        vertical-align: top;\n",
       "    }\n",
       "\n",
       "    .dataframe thead th {\n",
       "        text-align: right;\n",
       "    }\n",
       "</style>\n",
       "<table border=\"1\" class=\"dataframe\">\n",
       "  <thead>\n",
       "    <tr style=\"text-align: right;\">\n",
       "      <th></th>\n",
       "      <th>Open</th>\n",
       "      <th>High</th>\n",
       "      <th>Low</th>\n",
       "      <th>Close</th>\n",
       "      <th>Volume</th>\n",
       "      <th>Dividends</th>\n",
       "      <th>Stock Splits</th>\n",
       "    </tr>\n",
       "    <tr>\n",
       "      <th>Date</th>\n",
       "      <th></th>\n",
       "      <th></th>\n",
       "      <th></th>\n",
       "      <th></th>\n",
       "      <th></th>\n",
       "      <th></th>\n",
       "      <th></th>\n",
       "    </tr>\n",
       "  </thead>\n",
       "  <tbody>\n",
       "    <tr>\n",
       "      <th>2005-07-22 00:00:00+03:00</th>\n",
       "      <td>0.743826</td>\n",
       "      <td>0.750409</td>\n",
       "      <td>0.737243</td>\n",
       "      <td>0.743826</td>\n",
       "      <td>289680</td>\n",
       "      <td>0.0</td>\n",
       "      <td>0.0</td>\n",
       "    </tr>\n",
       "    <tr>\n",
       "      <th>2005-07-25 00:00:00+03:00</th>\n",
       "      <td>0.737243</td>\n",
       "      <td>0.750409</td>\n",
       "      <td>0.737243</td>\n",
       "      <td>0.737243</td>\n",
       "      <td>2121216</td>\n",
       "      <td>0.0</td>\n",
       "      <td>0.0</td>\n",
       "    </tr>\n",
       "    <tr>\n",
       "      <th>2005-07-26 00:00:00+03:00</th>\n",
       "      <td>0.737243</td>\n",
       "      <td>0.743826</td>\n",
       "      <td>0.730661</td>\n",
       "      <td>0.737243</td>\n",
       "      <td>568320</td>\n",
       "      <td>0.0</td>\n",
       "      <td>0.0</td>\n",
       "    </tr>\n",
       "    <tr>\n",
       "      <th>2005-07-27 00:00:00+03:00</th>\n",
       "      <td>0.763573</td>\n",
       "      <td>0.770156</td>\n",
       "      <td>0.737243</td>\n",
       "      <td>0.763573</td>\n",
       "      <td>2418024</td>\n",
       "      <td>0.0</td>\n",
       "      <td>0.0</td>\n",
       "    </tr>\n",
       "    <tr>\n",
       "      <th>2005-07-28 00:00:00+03:00</th>\n",
       "      <td>0.743826</td>\n",
       "      <td>0.756991</td>\n",
       "      <td>0.743826</td>\n",
       "      <td>0.743826</td>\n",
       "      <td>304680</td>\n",
       "      <td>0.0</td>\n",
       "      <td>0.0</td>\n",
       "    </tr>\n",
       "  </tbody>\n",
       "</table>\n",
       "</div>"
      ],
      "text/plain": [
       "                               Open      High       Low     Close   Volume  \\\n",
       "Date                                                                         \n",
       "2005-07-22 00:00:00+03:00  0.743826  0.750409  0.737243  0.743826   289680   \n",
       "2005-07-25 00:00:00+03:00  0.737243  0.750409  0.737243  0.737243  2121216   \n",
       "2005-07-26 00:00:00+03:00  0.737243  0.743826  0.730661  0.737243   568320   \n",
       "2005-07-27 00:00:00+03:00  0.763573  0.770156  0.737243  0.763573  2418024   \n",
       "2005-07-28 00:00:00+03:00  0.743826  0.756991  0.743826  0.743826   304680   \n",
       "\n",
       "                           Dividends  Stock Splits  \n",
       "Date                                                \n",
       "2005-07-22 00:00:00+03:00        0.0           0.0  \n",
       "2005-07-25 00:00:00+03:00        0.0           0.0  \n",
       "2005-07-26 00:00:00+03:00        0.0           0.0  \n",
       "2005-07-27 00:00:00+03:00        0.0           0.0  \n",
       "2005-07-28 00:00:00+03:00        0.0           0.0  "
      ]
     },
     "execution_count": 18,
     "metadata": {},
     "output_type": "execute_result"
    }
   ],
   "source": [
    "bim_history.head()"
   ]
  },
  {
   "cell_type": "code",
   "execution_count": 19,
   "id": "59e0cde9",
   "metadata": {},
   "outputs": [
    {
     "data": {
      "image/png": "[encoded data removed]",
      "text/plain": [
       "<Figure size 1000x200 with 1 Axes>"
      ]
     },
     "metadata": {},
     "output_type": "display_data"
    }
   ],
   "source": [
    "plt.figure(figsize=(10, 2))\n",
    "plt.plot(bim_history.index, bim_history['Close'])\n",
    "plt.show()"
   ]
  },
  {
   "cell_type": "code",
   "execution_count": null,
   "id": "1d35da35",
   "metadata": {},
   "outputs": [],
   "source": []
  }
 ],
 "metadata": {
  "kernelspec": {
   "display_name": "Python 3 (ipykernel)",
   "language": "python",
   "name": "python3"
  },
  "language_info": {
   "codemirror_mode": {
    "name": "ipython",
    "version": 3
   },
   "file_extension": ".py",
   "mimetype": "text/x-python",
   "name": "python",
   "nbconvert_exporter": "python",
   "pygments_lexer": "ipython3",
   "version": "3.10.7"
  }
 },
 "nbformat": 4,
 "nbformat_minor": 5
}
