{
 "cells": [
  {
   "cell_type": "markdown",
   "id": "3f836953",
   "metadata": {},
   "source": [
    "# Time Series Modeling\n",
    "In this notebook, some sources and notes about time series data modeling is presented to help us in the modeling process.\n",
    "\n",
    "### Sources:\n",
    "1. [Youtube playlist on Time Series Data Analysis](https://www.youtube.com/playlist?list=PLvcbYUQ5t0UHOLnBzl46_Q6QKtFgfMGc3)\n",
    "2. [ACF and PACF](https://statisticsbyjim.com/time-series/autocorrelation-partial-autocorrelation/)\n",
    "3. [VAR for multi-variate timeseries forecasting](https://www.analyticsvidhya.com/blog/2018/09/multivariate-time-series-guide-forecasting-modeling-python-codes/)\n",
    "4. [Multiple Series? Forecast Them together with any Sklearn Model](https://towardsdatascience.com/multiple-series-forecast-them-together-with-any-sklearn-model-96319d46269)\n",
    "5. [Extensive VAR tutorial with Python implementation](https://www.machinelearningplus.com/time-series/vector-autoregression-examples-python/)\n",
    "\n",
    "### Notes:\n",
    "* \"*Typically, you will use the ACF to determine whether an autoregressive model is appropriate. If it is, you then use the PACF to help you choose the model terms.*\" (See source 2)"
   ]
  },
  {
   "cell_type": "code",
   "execution_count": null,
   "id": "45d33a9e",
   "metadata": {},
   "outputs": [],
   "source": []
  }
 ],
 "metadata": {
  "kernelspec": {
   "display_name": "Python 3 (ipykernel)",
   "language": "python",
   "name": "python3"
  },
  "language_info": {
   "codemirror_mode": {
    "name": "ipython",
    "version": 3
   },
   "file_extension": ".py",
   "mimetype": "text/x-python",
   "name": "python",
   "nbconvert_exporter": "python",
   "pygments_lexer": "ipython3",
   "version": "3.10.7"
  }
 },
 "nbformat": 4,
 "nbformat_minor": 5
}
