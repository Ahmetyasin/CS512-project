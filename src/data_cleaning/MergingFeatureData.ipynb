{
 "cells": [
  {
   "cell_type": "markdown",
   "id": "b56eebf2",
   "metadata": {},
   "source": [
    "# Merging feature data\n",
    "In this notebook the feature data is merged into one CSV file. The final data has a monthly rate. Data with quarterly rate was interpolated into monthly rate and the data that has daily/weekly rate was aggregated to obtain monthly rates. The end of the notebook also includes some missing data imputation."
   ]
  },
  {
   "cell_type": "code",
   "execution_count": 1,
   "id": "6290f7d7",
   "metadata": {},
   "outputs": [],
   "source": [
    "import numpy as np\n",
    "import pandas as pd\n",
    "import matplotlib.pyplot as plt\n",
    "import os, glob\n",
    "from pathlib import Path\n",
    "import re\n",
    "import json"
   ]
  },
  {
   "cell_type": "code",
   "execution_count": 2,
   "id": "adb227f4",
   "metadata": {},
   "outputs": [
    {
     "data": {
      "text/plain": [
       "['car_sales.csv',\n",
       " 'consumer_credits.csv',\n",
       " 'consumer_price_index.csv',\n",
       " 'crude_oil.csv',\n",
       " 'current_account_deficit.csv',\n",
       " 'export_import.csv',\n",
       " 'export_unit_value_index.csv',\n",
       " 'gdp.csv',\n",
       " 'gold_prices.csv',\n",
       " 'import_unit_value_index.csv',\n",
       " 'industrial_index_codes.json',\n",
       " 'industrial_production_index.csv',\n",
       " 'interest_rates_mortgage.csv',\n",
       " 'interest_rates_personal.csv',\n",
       " 'money_supply.csv',\n",
       " 'real_effective_exchange_rates.csv',\n",
       " 'retail_sales.csv',\n",
       " 'unemployment.csv']"
      ]
     },
     "execution_count": 2,
     "metadata": {},
     "output_type": "execute_result"
    }
   ],
   "source": [
    "data_path = 'cleaned_data'\n",
    "file_paths = glob.glob(data_path+'/*.csv')\n",
    "file_names = os.listdir(data_path)\n",
    "file_names"
   ]
  },
  {
   "cell_type": "code",
   "execution_count": 3,
   "id": "30e6645a",
   "metadata": {},
   "outputs": [
    {
     "name": "stdout",
     "output_type": "stream",
     "text": [
      "car_sales.csv\n",
      "Frequency: 365 days\n",
      "\n",
      "consumer_credits.csv\n",
      "Frequency: 7 days\n",
      "\n",
      "consumer_price_index.csv\n",
      "Frequency: 30 days\n",
      "\n",
      "crude_oil.csv\n",
      "Frequency: 30 days\n",
      "\n",
      "current_account_deficit.csv\n",
      "Frequency: 30 days\n",
      "\n",
      "export_import.csv\n",
      "Frequency: 30 days\n",
      "\n",
      "export_unit_value_index.csv\n",
      "Frequency: 30 days\n",
      "\n",
      "gdp.csv\n",
      "Frequency: 91 days\n",
      "\n",
      "gold_prices.csv\n",
      "Frequency: 30 days\n",
      "\n",
      "import_unit_value_index.csv\n",
      "Frequency: 30 days\n",
      "\n",
      "industrial_index_codes.json\n",
      "Frequency: 30 days\n",
      "\n",
      "industrial_production_index.csv\n",
      "Frequency: 30 days\n",
      "\n",
      "interest_rates_mortgage.csv\n",
      "Frequency: 7 days\n",
      "\n",
      "interest_rates_personal.csv\n",
      "Frequency: 30 days\n",
      "\n",
      "money_supply.csv\n",
      "Frequency: 30 days\n",
      "\n",
      "real_effective_exchange_rates.csv\n",
      "Frequency: 30 days\n",
      "\n",
      "retail_sales.csv\n",
      "Frequency: 30 days\n",
      "\n"
     ]
    }
   ],
   "source": [
    "for file_name, file_path in zip(file_names, file_paths):\n",
    "    df = pd.read_csv(file_path, parse_dates=['date'])\n",
    "    \n",
    "    print(file_name)\n",
    "    print(f\"Frequency: {df['date'].diff().mean().days} days\")\n",
    "    print()"
   ]
  },
  {
   "cell_type": "code",
   "execution_count": 4,
   "id": "01a0d482",
   "metadata": {},
   "outputs": [],
   "source": [
    "def interpolate_data(df):\n",
    "    \n",
    "    df['date'] = df['date'].dt.to_period('M')\n",
    "    df = df.set_index('date').resample('M').interpolate().reset_index()\n",
    "    df['date'] = df['date'].dt.to_timestamp()\n",
    "    df['year'] = df['date'].dt.year\n",
    "    df['month'] = df['date'].dt.month\n",
    "    \n",
    "    return df"
   ]
  },
  {
   "cell_type": "code",
   "execution_count": 5,
   "id": "78f22929",
   "metadata": {},
   "outputs": [
    {
     "data": {
      "text/html": [
       "<div>\n",
       "<style scoped>\n",
       "    .dataframe tbody tr th:only-of-type {\n",
       "        vertical-align: middle;\n",
       "    }\n",
       "\n",
       "    .dataframe tbody tr th {\n",
       "        vertical-align: top;\n",
       "    }\n",
       "\n",
       "    .dataframe thead th {\n",
       "        text-align: right;\n",
       "    }\n",
       "</style>\n",
       "<table border=\"1\" class=\"dataframe\">\n",
       "  <thead>\n",
       "    <tr style=\"text-align: right;\">\n",
       "      <th></th>\n",
       "      <th>date</th>\n",
       "      <th>year</th>\n",
       "      <th>quarter</th>\n",
       "      <th>gdp</th>\n",
       "      <th>month</th>\n",
       "    </tr>\n",
       "  </thead>\n",
       "  <tbody>\n",
       "    <tr>\n",
       "      <th>0</th>\n",
       "      <td>2005-03-01</td>\n",
       "      <td>2005</td>\n",
       "      <td>1.000000</td>\n",
       "      <td>1.425883e+08</td>\n",
       "      <td>3</td>\n",
       "    </tr>\n",
       "    <tr>\n",
       "      <th>1</th>\n",
       "      <td>2005-04-01</td>\n",
       "      <td>2005</td>\n",
       "      <td>1.333333</td>\n",
       "      <td>1.495625e+08</td>\n",
       "      <td>4</td>\n",
       "    </tr>\n",
       "    <tr>\n",
       "      <th>2</th>\n",
       "      <td>2005-05-01</td>\n",
       "      <td>2005</td>\n",
       "      <td>1.666667</td>\n",
       "      <td>1.565367e+08</td>\n",
       "      <td>5</td>\n",
       "    </tr>\n",
       "    <tr>\n",
       "      <th>3</th>\n",
       "      <td>2005-06-01</td>\n",
       "      <td>2005</td>\n",
       "      <td>2.000000</td>\n",
       "      <td>1.635109e+08</td>\n",
       "      <td>6</td>\n",
       "    </tr>\n",
       "    <tr>\n",
       "      <th>4</th>\n",
       "      <td>2005-07-01</td>\n",
       "      <td>2005</td>\n",
       "      <td>2.333333</td>\n",
       "      <td>1.712267e+08</td>\n",
       "      <td>7</td>\n",
       "    </tr>\n",
       "  </tbody>\n",
       "</table>\n",
       "</div>"
      ],
      "text/plain": [
       "        date  year   quarter           gdp  month\n",
       "0 2005-03-01  2005  1.000000  1.425883e+08      3\n",
       "1 2005-04-01  2005  1.333333  1.495625e+08      4\n",
       "2 2005-05-01  2005  1.666667  1.565367e+08      5\n",
       "3 2005-06-01  2005  2.000000  1.635109e+08      6\n",
       "4 2005-07-01  2005  2.333333  1.712267e+08      7"
      ]
     },
     "execution_count": 5,
     "metadata": {},
     "output_type": "execute_result"
    }
   ],
   "source": [
    "file_path = 'cleaned_data/gdp.csv'\n",
    "df = pd.read_csv(file_path, parse_dates=['date'])\n",
    "df = interpolate_data(df)\n",
    "df.head()"
   ]
  },
  {
   "cell_type": "code",
   "execution_count": 6,
   "id": "ffdc9ffc",
   "metadata": {},
   "outputs": [],
   "source": [
    "def aggregate_data(df):\n",
    "    df = df.set_index('date').resample('M').mean().reset_index()\n",
    "    df['date'] = df['date'] - pd.to_timedelta(df['date'].dt.day - 1, unit='days')\n",
    "    df['year'] = df['date'].dt.year\n",
    "    df['month'] = df['date'].dt.month\n",
    "    \n",
    "    return df"
   ]
  },
  {
   "cell_type": "code",
   "execution_count": 7,
   "id": "3aaa3fe9",
   "metadata": {},
   "outputs": [
    {
     "data": {
      "text/html": [
       "<div>\n",
       "<style scoped>\n",
       "    .dataframe tbody tr th:only-of-type {\n",
       "        vertical-align: middle;\n",
       "    }\n",
       "\n",
       "    .dataframe tbody tr th {\n",
       "        vertical-align: top;\n",
       "    }\n",
       "\n",
       "    .dataframe thead th {\n",
       "        text-align: right;\n",
       "    }\n",
       "</style>\n",
       "<table border=\"1\" class=\"dataframe\">\n",
       "  <thead>\n",
       "    <tr style=\"text-align: right;\">\n",
       "      <th></th>\n",
       "      <th>date</th>\n",
       "      <th>year</th>\n",
       "      <th>month</th>\n",
       "      <th>consumer_credits</th>\n",
       "    </tr>\n",
       "  </thead>\n",
       "  <tbody>\n",
       "    <tr>\n",
       "      <th>0</th>\n",
       "      <td>2005-12-01</td>\n",
       "      <td>2005</td>\n",
       "      <td>12</td>\n",
       "      <td>28474397.00</td>\n",
       "    </tr>\n",
       "    <tr>\n",
       "      <th>1</th>\n",
       "      <td>2006-01-01</td>\n",
       "      <td>2006</td>\n",
       "      <td>1</td>\n",
       "      <td>29098873.75</td>\n",
       "    </tr>\n",
       "    <tr>\n",
       "      <th>2</th>\n",
       "      <td>2006-02-01</td>\n",
       "      <td>2006</td>\n",
       "      <td>2</td>\n",
       "      <td>30479696.75</td>\n",
       "    </tr>\n",
       "    <tr>\n",
       "      <th>3</th>\n",
       "      <td>2006-03-01</td>\n",
       "      <td>2006</td>\n",
       "      <td>3</td>\n",
       "      <td>32612166.20</td>\n",
       "    </tr>\n",
       "    <tr>\n",
       "      <th>4</th>\n",
       "      <td>2006-04-01</td>\n",
       "      <td>2006</td>\n",
       "      <td>4</td>\n",
       "      <td>35359956.00</td>\n",
       "    </tr>\n",
       "  </tbody>\n",
       "</table>\n",
       "</div>"
      ],
      "text/plain": [
       "        date  year  month  consumer_credits\n",
       "0 2005-12-01  2005     12       28474397.00\n",
       "1 2006-01-01  2006      1       29098873.75\n",
       "2 2006-02-01  2006      2       30479696.75\n",
       "3 2006-03-01  2006      3       32612166.20\n",
       "4 2006-04-01  2006      4       35359956.00"
      ]
     },
     "execution_count": 7,
     "metadata": {},
     "output_type": "execute_result"
    }
   ],
   "source": [
    "# Aggregating data\n",
    "file_path = 'cleaned_data/consumer_credits.csv'\n",
    "df = pd.read_csv(file_path, parse_dates=['date'])\n",
    "df = aggregate_data(df)\n",
    "df.head()"
   ]
  },
  {
   "cell_type": "code",
   "execution_count": 8,
   "id": "9d905c9a",
   "metadata": {},
   "outputs": [],
   "source": [
    "def merge_data(file_paths):\n",
    "    \n",
    "    cols_to_drop = ['month', 'quarter', 'year']\n",
    "    cols_to_drop = ['quarter', 'date']\n",
    "    \n",
    "    date_range = pd.date_range(start='2004-12-31', end='2019-01-01', freq='M') + pd.Timedelta('1d')\n",
    "    merged_data = pd.DataFrame({'date': date_range})\n",
    "    merged_data['year'] = merged_data['date'].dt.year\n",
    "    merged_data['month'] = merged_data['date'].dt.month\n",
    "    \n",
    "    m = re.compile(r'.*\\\\(.+)\\.csv')\n",
    "    for file_path in file_paths:\n",
    "        file_name = re.search(m, file_path).groups(1)[0]\n",
    "        print(file_name)\n",
    "        \n",
    "        df = pd.read_csv(file_path, parse_dates=['date'])\n",
    "        \n",
    "        # Data frequency in days\n",
    "        freq = df['date'].diff().mean().days\n",
    "        \n",
    "        if freq in range(28, 32):\n",
    "            df = df.drop(columns=[col for col in cols_to_drop if col in df.columns])\n",
    "            merged_data = merged_data.merge(df, how='left', on=['year', 'month'])\n",
    "            \n",
    "        elif freq < 27:\n",
    "            df = aggregate_data(df)\n",
    "            df = df.drop(columns=[col for col in cols_to_drop if col in df.columns])\n",
    "            merged_data = merged_data.merge(df, how='left', on=['year', 'month'])\n",
    "            \n",
    "        elif 31 < freq < 300:\n",
    "            df = interpolate_data(df)\n",
    "            df = df.drop(columns=[col for col in cols_to_drop if col in df.columns])\n",
    "            merged_data = merged_data.merge(df, how='left', on=['year', 'month'])\n",
    "            \n",
    "        else:\n",
    "            continue\n",
    "            \n",
    "    return merged_data"
   ]
  },
  {
   "cell_type": "code",
   "execution_count": 65,
   "id": "42673f7c",
   "metadata": {},
   "outputs": [
    {
     "name": "stdout",
     "output_type": "stream",
     "text": [
      "car_sales\n",
      "consumer_credits\n",
      "consumer_price_index\n",
      "crude_oil\n",
      "current_account_deficit\n",
      "export_import\n",
      "export_unit_value_index\n",
      "gdp\n",
      "gold_prices\n",
      "import_unit_value_index\n",
      "industrial_production_index\n",
      "interest_rates_mortgage\n",
      "interest_rates_personal\n",
      "money_supply\n",
      "real_effective_exchange_rates\n",
      "retail_sales\n",
      "unemployment\n"
     ]
    }
   ],
   "source": [
    "df = merge_data(file_paths)"
   ]
  },
  {
   "cell_type": "code",
   "execution_count": 66,
   "id": "b6b6d0b1",
   "metadata": {},
   "outputs": [
    {
     "name": "stdout",
     "output_type": "stream",
     "text": [
      "['date', 'year', 'month', 'consumer_credits', 'consumer_price_index', 'WTI_oil_price', 'brent_oil_price', 'current_account_deficit', 'exports_usd', 'exports_tl', 'imports_usd', 'imports_tl', 'export_unit_value_index_usd', 'export_unit_value_index_tl', 'gdp', 'gold_price_cum', 'gold_price_lon', 'import_unit_value_index_usd', 'import_unit_value_index_tl', 'B', 'B05', 'B06', 'B07', 'B08', 'B081', 'B0811', 'B0812', 'B089', 'B0891', 'B0893', 'B0899', 'B-D', 'C', 'C10', 'C101', 'C1011', 'C1012', 'C103', 'C1032', 'C1039', 'C104', 'C1041', 'C105', 'C1051', 'C106', 'C1061', 'C107', 'C1071', 'C1072', 'C108', 'C1081', 'C1082', 'C1083', 'C1089', 'C109', 'C1091', 'C1101', 'C1102', 'C1107', 'C13', 'C139', 'C1391', 'C1392', 'C1393', 'C1395', 'C1396', 'C1399', 'C14', 'C141', 'C1412', 'C1413', 'C1414', 'C1419', 'C143', 'C1431', 'C1439', 'C15', 'C151', 'C1511', 'C1512', 'C16', 'C162', 'C1621', 'C1622', 'C1623', 'C1624', 'C17', 'C172', 'C1721', 'C1722', 'C1723', 'C1729', 'C18', 'C181', 'C1811', 'C1812', 'C1813', 'C1814', 'C19', 'C20', 'C201', 'C2012', 'C2013', 'C2015', 'C2016', 'C204', 'C2041', 'C2042', 'C205', 'C2059', 'C21', 'C22', 'C221', 'C2211', 'C2219', 'C222', 'C2221', 'C2222', 'C2223', 'C2229', 'C23', 'C231', 'C2311', 'C2312', 'C2313', 'C233', 'C2331', 'C2332', 'C234', 'C2341', 'C2342', 'C235', 'C2351', 'C236', 'C2361', 'C2363', 'C239', 'C2399', 'C24', 'C243', 'C244', 'C2442', 'C2444', 'C245', 'C2451', 'C25', 'C251', 'C2511', 'C2512', 'C252', 'C2521', 'C2529', 'C256', 'C2561', 'C2562', 'C257', 'C2572', 'C2573', 'C259', 'C2592', 'C2593', 'C2594', 'C2599', 'C26', 'C261', 'C2611', 'C2612', 'C265', 'C2651', 'C27', 'C271', 'C2711', 'C2712', 'C273', 'C2732', 'C2733', 'C275', 'C2751', 'C2752', 'C28', 'C281', 'C2811', 'C2812', 'C2813', 'C2814', 'C2815', 'C282', 'C2822', 'C2825', 'C2829', 'C284', 'C2841', 'C289', 'C2892', 'C2893', 'C2894', 'C2899', 'C29', 'C293', 'C2931', 'C2932', 'C30', 'C301', 'C3011', 'C3012', 'C309', 'C3092', 'C3101', 'C3102', 'C3103', 'C3109', 'C32', 'C321', 'C3212', 'C323', 'C329', 'C3291', 'C3299', 'C33', 'MIG_CAG', 'MIG_DCOG', 'MIG_ING', 'MIG_NDCOG', 'MIG_NRG_X_E', 'interest_rates_mortgage', 'interest_rates_personal', 'money_supply', 'real_effective_echange_rates', 'retail_sales', 'unemployment_15-19', 'unemployment_20-24', 'unemployment_25-29', 'unemployment_30-34', 'unemployment_35-39', 'unemployment_40-44', 'unemployment_45-49', 'unemployment_50-54', 'unemployment_55-59', 'unemployment_60-64', 'unemployment_65+']\n"
     ]
    }
   ],
   "source": [
    "print(list(df.columns))"
   ]
  },
  {
   "cell_type": "code",
   "execution_count": 67,
   "id": "5c28cd07",
   "metadata": {},
   "outputs": [
    {
     "name": "stdout",
     "output_type": "stream",
     "text": [
      "Values missing between 2005-01-01 and 2020-01-01:\n",
      "\n",
      "consumer_credits    11\n",
      "gdp                  2\n",
      "dtype: int64\n"
     ]
    }
   ],
   "source": [
    "missing_values = df.isna().sum().sort_values(ascending=False)\n",
    "cond = missing_values > 0\n",
    "print('Values missing between 2005-01-01 and 2020-01-01:\\n')\n",
    "print(missing_values[cond])"
   ]
  },
  {
   "cell_type": "code",
   "execution_count": 68,
   "id": "9b344172",
   "metadata": {},
   "outputs": [
    {
     "name": "stdout",
     "output_type": "stream",
     "text": [
      "Missing values:\n",
      "\n",
      "consumer_credits:\n",
      "2005-01-01\n",
      "2005-02-01\n",
      "2005-03-01\n",
      "2005-04-01\n",
      "2005-05-01\n",
      "2005-06-01\n",
      "2005-07-01\n",
      "2005-08-01\n",
      "2005-09-01\n",
      "2005-10-01\n",
      "2005-11-01\n",
      "\n",
      "gdp:\n",
      "2005-01-01\n",
      "2005-02-01\n",
      "\n"
     ]
    }
   ],
   "source": [
    "missing_values = df.isna().sum().sort_values(ascending=False)\n",
    "cond = missing_values > 0\n",
    "cols = missing_values[cond].index\n",
    "\n",
    "print('Missing values:\\n')\n",
    "for col in cols:\n",
    "    cond = df[col].isna()\n",
    "    print(f'{col}:')\n",
    "    for i, row in df.loc[cond].iterrows():\n",
    "        date = row['date'].strftime('%Y-%m-%d')\n",
    "\n",
    "        print(f'{date}')\n",
    "    print()"
   ]
  },
  {
   "cell_type": "markdown",
   "id": "e2a65e8a",
   "metadata": {},
   "source": [
    "### Extrapolating values\n",
    "In this part the missing values of year 2005 are extrapolated from the available data"
   ]
  },
  {
   "cell_type": "code",
   "execution_count": 69,
   "id": "1f477a5c",
   "metadata": {},
   "outputs": [
    {
     "data": {
      "text/plain": [
       "Index(['consumer_credits', 'gdp'], dtype='object')"
      ]
     },
     "execution_count": 69,
     "metadata": {},
     "output_type": "execute_result"
    }
   ],
   "source": [
    "missing_values = df.isna().sum().sort_values(ascending=False)\n",
    "cond = missing_values > 0\n",
    "missing_features = missing_values[cond].index\n",
    "missing_features"
   ]
  },
  {
   "cell_type": "markdown",
   "id": "e0a479fd",
   "metadata": {},
   "source": [
    "#### Consumer credits data"
   ]
  },
  {
   "cell_type": "code",
   "execution_count": 70,
   "id": "44c50540",
   "metadata": {},
   "outputs": [
    {
     "data": {
      "image/png": "[encoded data removed]",
      "text/plain": [
       "<Figure size 1200x400 with 1 Axes>"
      ]
     },
     "metadata": {},
     "output_type": "display_data"
    }
   ],
   "source": [
    "plt.figure(figsize=(12, 4))\n",
    "\n",
    "y = df['consumer_credits']\n",
    "x = df['date']\n",
    "\n",
    "plt.plot(x, y)\n",
    "\n",
    "plt.show()"
   ]
  },
  {
   "cell_type": "code",
   "execution_count": 71,
   "id": "c063f6b3",
   "metadata": {},
   "outputs": [],
   "source": [
    "from sklearn.linear_model import LinearRegression\n",
    "from sklearn.preprocessing import PolynomialFeatures"
   ]
  },
  {
   "cell_type": "code",
   "execution_count": 72,
   "id": "a578c8df",
   "metadata": {},
   "outputs": [],
   "source": [
    "start = 11\n",
    "end = start + 3\n",
    "\n",
    "y = df['consumer_credits'].to_numpy()[start:end]\n",
    "x = df['consumer_credits'].index.to_numpy() + 1\n",
    "x = np.arange(1, end+1)\n",
    "x_missing = x[:start].reshape(-1, 1)\n",
    "x_train = x[start:].reshape(-1, 1)\n",
    "\n",
    "# poly = PolynomialFeatures(5)\n",
    "# X_train = poly.fit_transform(x_train)\n",
    "X_train = x_train\n",
    "\n",
    "lr = LinearRegression()\n",
    "lr.fit(X_train, y)\n",
    "\n",
    "# X_missing = poly.transform(x_missing)\n",
    "X_missing = x_missing\n",
    "new_y = lr.predict(X_missing)"
   ]
  },
  {
   "cell_type": "code",
   "execution_count": 73,
   "id": "aff34856",
   "metadata": {},
   "outputs": [
    {
     "data": {
      "image/png": "[encoded data removed]",
      "text/plain": [
       "<Figure size 1200x400 with 1 Axes>"
      ]
     },
     "metadata": {},
     "output_type": "display_data"
    }
   ],
   "source": [
    "plt.figure(figsize=(12, 4))\n",
    "\n",
    "y = df['consumer_credits']\n",
    "x = df['date']\n",
    "\n",
    "plt.plot(x, y)\n",
    "plt.plot(x.loc[:start-1], new_y, color='limegreen')\n",
    "\n",
    "plt.show()"
   ]
  },
  {
   "cell_type": "code",
   "execution_count": 74,
   "id": "e48497ff",
   "metadata": {},
   "outputs": [],
   "source": [
    "df.loc[:10, 'consumer_credits'] = new_y"
   ]
  },
  {
   "cell_type": "markdown",
   "id": "d385d173",
   "metadata": {},
   "source": [
    "#### GDP\n",
    "The first two months of 2005 are missing. Looking at the trend of the data, we notice that the GDP values tend to decrease from the first month to the third month then increase again. Based on this observation, I fit a linear regression line to the first three months of 2006 to capture the slope of this decrease. Then I updated the intercept of this model to account for the overall increasing trend. Finally, I applied the modified linear regression model on the first two months of 2005 to impute their missing values."
   ]
  },
  {
   "cell_type": "code",
   "execution_count": 77,
   "id": "e94fa739",
   "metadata": {},
   "outputs": [
    {
     "data": {
      "image/png": "[encoded data removed]",
      "text/plain": [
       "<Figure size 1200x400 with 1 Axes>"
      ]
     },
     "metadata": {},
     "output_type": "display_data"
    }
   ],
   "source": [
    "plt.figure(figsize=(12, 4))\n",
    "\n",
    "# Interpolated data\n",
    "plt.plot(df['date'], df['gdp'], '+-')\n",
    "\n",
    "xticks = pd.date_range(start='2004-12-31', end='2019-01-01', freq='1y') + pd.Timedelta(days=1)\n",
    "plt.xticks(xticks, labels=xticks.strftime('%Y'))\n",
    "plt.grid()\n",
    "plt.show()"
   ]
  },
  {
   "cell_type": "code",
   "execution_count": 78,
   "id": "3744e848",
   "metadata": {},
   "outputs": [],
   "source": [
    "# Slicing the first 3 months data from 2006\n",
    "start = '2006-01-01'\n",
    "end = '2006-03-01'\n",
    "lr_fit_data = df.set_index('date').loc[start:end, 'gdp'].values\n",
    "X = df.set_index('date').loc[start:end, 'month'].values.reshape(-1, 1)\n",
    "\n",
    "# Fitting a linear regression model to these points\n",
    "lr = LinearRegression()\n",
    "lr.fit(X, lr_fit_data)\n",
    "\n",
    "# Updating the intercept by adding the difference between 2005-03 and 2006-03 GDP values\n",
    "lr.intercept_ = lr.intercept_ - lr_fit_data[-1] + df.set_index('date').loc['2005-03-01', 'gdp']\n",
    "\n",
    "# Predicting the first two months of 2005 GDP values\n",
    "predictions = lr.predict(np.array([[1], [2]]))"
   ]
  },
  {
   "cell_type": "markdown",
   "id": "22701920",
   "metadata": {},
   "source": [
    "Plotting the imputed data"
   ]
  },
  {
   "cell_type": "code",
   "execution_count": 49,
   "id": "43a7ff7d",
   "metadata": {},
   "outputs": [],
   "source": [
    "graph_data = df.copy()\n",
    "graph_data.loc[:1, 'gdp'] = predictions"
   ]
  },
  {
   "cell_type": "code",
   "execution_count": 79,
   "id": "abadbd4b",
   "metadata": {},
   "outputs": [
    {
     "data": {
      "image/png": "[encoded data removed]",
      "text/plain": [
       "<Figure size 1200x400 with 1 Axes>"
      ]
     },
     "metadata": {},
     "output_type": "display_data"
    }
   ],
   "source": [
    "plt.figure(figsize=(12, 4))\n",
    "\n",
    "plt.plot(df['date'], df['gdp'], '+-')\n",
    "plt.plot(graph_data.loc[:1, 'date'], graph_data.loc[:1, 'gdp'], '+-', color='limegreen')\n",
    "\n",
    "xticks = pd.date_range(start='2004-12-31', end='2019-01-01', freq='1y') + pd.Timedelta(days=1)\n",
    "plt.xticks(xticks, labels=xticks.strftime('%Y'))\n",
    "plt.grid()\n",
    "plt.show()"
   ]
  },
  {
   "cell_type": "code",
   "execution_count": 80,
   "id": "a4dff85a",
   "metadata": {},
   "outputs": [],
   "source": [
    "# Assigning values\n",
    "df.loc[:1, 'gdp'] = predictions"
   ]
  },
  {
   "cell_type": "code",
   "execution_count": 82,
   "id": "aa55dc61",
   "metadata": {},
   "outputs": [
    {
     "data": {
      "text/plain": [
       "0"
      ]
     },
     "execution_count": 82,
     "metadata": {},
     "output_type": "execute_result"
    }
   ],
   "source": [
    "df.isna().sum().max()"
   ]
  },
  {
   "cell_type": "code",
   "execution_count": 83,
   "id": "cd1b9f03",
   "metadata": {},
   "outputs": [],
   "source": [
    "# Saving the dataset\n",
    "# df.to_csv('cleaned_data/merged_feature_data.csv', index=False)"
   ]
  },
  {
   "cell_type": "code",
   "execution_count": 84,
   "id": "3df44953",
   "metadata": {},
   "outputs": [],
   "source": [
    "# Loading merged feature data\n",
    "df1 = pd.read_csv('cleaned_data/merged_feature_data.csv', parse_dates=['date'])"
   ]
  },
  {
   "cell_type": "code",
   "execution_count": null,
   "id": "2bc0addc",
   "metadata": {},
   "outputs": [],
   "source": []
  }
 ],
 "metadata": {
  "kernelspec": {
   "display_name": "Python 3 (ipykernel)",
   "language": "python",
   "name": "python3"
  },
  "language_info": {
   "codemirror_mode": {
    "name": "ipython",
    "version": 3
   },
   "file_extension": ".py",
   "mimetype": "text/x-python",
   "name": "python",
   "nbconvert_exporter": "python",
   "pygments_lexer": "ipython3",
   "version": "3.10.7"
  }
 },
 "nbformat": 4,
 "nbformat_minor": 5
}
